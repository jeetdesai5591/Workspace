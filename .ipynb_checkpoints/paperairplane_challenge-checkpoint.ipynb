{
 "metadata": {
  "name": "",
  "signature": "sha256:91b204074052d5b87df18ae4720aa300bc6c60a3e72cca232949cc50f432d971"
 },
 "nbformat": 3,
 "nbformat_minor": 0,
 "worksheets": [
  {
   "cells": [
    {
     "cell_type": "code",
     "collapsed": false,
     "input": [
      "import numpy\n",
      "from math import sin, cos, log, ceil\n",
      "import numpy as np\n",
      "import matplotlib.pyplot as plt\n",
      "from math import *\n",
      "#from matplotlib import rcParams\n",
      "#rcParams['font.family'] = 'serif'\n",
      "#rcParams['font.size'] = 16\n",
      "\n",
      "# global constants\n",
      "g = 9.8      # gravity in m s^{-2}\n",
      "v_t = 4.9   # trim velocity in m s^{-1}   \n",
      "C_D = 1/5.  # drag coefficient --- or D/L if C_L=1\n",
      "C_L = 1.0    # for convenience, use C_L = 1\n",
      "x0 = 0.0     # horizotal position is arbitrary\n",
      "y0 = 2.0  #average human height\n",
      "\n",
      "def f(u):\n",
      "    v = u[0]\n",
      "    theta = u[1]\n",
      "    x = u[2]\n",
      "    y = u[3]\n",
      "    return numpy.array([-g*sin(theta) - C_D/C_L*g/v_t**2*v**2,\n",
      "                      -g*cos(theta)/v + g/v_t**2*v,\n",
      "                      v*cos(theta),\n",
      "                      v*sin(theta)])\n",
      "def euler_step(u, f, dt):\n",
      "    return u + dt * f(u)\n",
      "\n",
      "def plane_trajectory(v0,theta0):\n",
      "    T = 20                       \n",
      "    dt = 0.001                         \n",
      "    N = int(T/dt) + 1            \n",
      "    u = numpy.empty((N, 4))\n",
      "    u[0] = numpy.array([v0, theta0, x0, y0])\n",
      "\n",
      "    for n in range(N-1):\n",
      "        u[n+1] = euler_step(u[n], f, dt)\n",
      "        if u[n+1,3] <0:\n",
      "            break\n",
      "    return u,n\n",
      "    \n",
      "v=np.linspace(4.9,9.,5)\n",
      "theta=np.linspace(-pi/4.0,pi/4.,5)\n",
      "\n",
      "x_range=np.zeros((5,5),dtype=float)\n",
      "\n",
      "maxrange=0\n",
      "\n",
      "plt.figure()\n",
      "for i in range(5):\n",
      "    for j in range(5):\n",
      "        u,n=plane_trajectory(v[i],theta[j])\n",
      "        x_path=u[0:n,2]\n",
      "        y_path=u[0:n,3]\n",
      "        x_range[i][j]=x_path[-1]\n",
      "        if(x_range[i][j]>maxrange):\n",
      "            maxrange=x_range[i][j]\n",
      "            indexi=i\n",
      "            indexj=j\n",
      "plt.figure()\n",
      "plt.plot(x_path,y_path)\n",
      "plt.xlabel('x')\n",
      "plt.ylabel('y')\n",
      "plt.show()\n",
      "\n",
      "print \"intial conditions:\"\n",
      "print \"velocity: \",v[indexi],\"m/s\"\n",
      "print \"Theta: \",theta[indexj],\"deg\"\n",
      "\n",
      "print \"maximum range: \",maxrange"
     ],
     "language": "python",
     "metadata": {},
     "outputs": [
      {
       "output_type": "stream",
       "stream": "stdout",
       "text": [
        "intial conditions:\n",
        "velocity:  9.0 m/s\n",
        "Theta:  -0.392699081699 deg\n",
        "maximum range:  17.7502641864\n"
       ]
      }
     ],
     "prompt_number": 5
    },
    {
     "cell_type": "code",
     "collapsed": false,
     "input": [],
     "language": "python",
     "metadata": {},
     "outputs": [],
     "prompt_number": 2
    },
    {
     "cell_type": "code",
     "collapsed": false,
     "input": [],
     "language": "python",
     "metadata": {},
     "outputs": []
    }
   ],
   "metadata": {}
  }
 ]
}