{
 "metadata": {
  "name": "",
  "signature": "sha256:28f6d449735893020abd2c6614d732aa11af7ff12b260b646df648668f510fb2"
 },
 "nbformat": 3,
 "nbformat_minor": 0,
 "worksheets": [
  {
   "cells": [
    {
     "cell_type": "code",
     "collapsed": false,
     "input": [
      "import numpy as np\n",
      "import matplotlib.pyplot as plt\n",
      "%matplotlib inline\n",
      "# Righthand side of differential equation\n",
      "def f(x):\n",
      "    return -x + 1\n",
      "# Define initial condition\n",
      "x0 = 0\n",
      "# Time step\n",
      "dt = 0.01\n",
      "# Solve the differential equation from time 0 to time T\n",
      "T=5\n",
      "t = np.linspace(0, T, int(T/dt)+1)\n",
      "x = np.zeros(len(t))\n",
      "# Integrate the differential equation using Euler\u2019s method\n",
      "x[0] = x0\n",
      "for i in range(1, len(t)):\n",
      "    x[i] = x[i-1] + f(x[i-1])*dt\n",
      "\n",
      "# Create a new figure\n",
      "plt.figure()\n",
      "# Axis labels\n",
      "plt.tick_params(axis='both', labelsize=14)\n",
      "plt.xlabel('t', fontsize=14) \n",
      "plt.ylabel('t', fontsize=14) \n",
      "plt.plot(t, x, 'r+')\n",
      "plt.show()"
     ],
     "language": "python",
     "metadata": {},
     "outputs": [
      {
       "metadata": {},
       "output_type": "display_data",
       "png": "[encoded data removed]",
       "text": [
        "<matplotlib.figure.Figure at 0x10da902d0>"
       ]
      }
     ],
     "prompt_number": 1
    },
    {
     "cell_type": "code",
     "collapsed": false,
     "input": [],
     "language": "python",
     "metadata": {},
     "outputs": []
    }
   ],
   "metadata": {}
  }
 ]
}