{
 "metadata": {
  "name": "",
  "signature": "sha256:8d21a8be660392266e11df5a55d50b9dcfe537981a99b5c24aa27a86df5b50e6"
 },
 "nbformat": 3,
 "nbformat_minor": 0,
 "worksheets": []
}