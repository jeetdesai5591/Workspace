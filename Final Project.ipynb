{
 "cells": [
  {
   "cell_type": "code",
   "execution_count": 51,
   "metadata": {
    "collapsed": true
   },
   "outputs": [],
   "source": [
    "import numpy\n",
    "from matplotlib import pyplot\n",
    "%matplotlib inline\n",
    "from matplotlib import rcParams\n",
    "rcParams['font.family'] = 'serif'\n",
    "rcParams['font.size'] = 16"
   ]
  },
  {
   "cell_type": "code",
   "execution_count": 53,
   "metadata": {
    "collapsed": false
   },
   "outputs": [],
   "source": [
    "L = 10.\n",
    "nt = 100\n",
    "nx = 100\n",
    "c= 3\n",
    "\n",
    "dx = L/(nx-1)\n",
    "dt = dx/6\n",
    "C2 = ((c**2) * ((dt/dx)**2))\n",
    "Ui = numpy.zeros(nx)\n",
    "Un = Ui.copy()\n",
    "Unx = Un.copy()\n",
    "x= numpy.linspace(0,L,nx)"
   ]
  },
  {
   "cell_type": "code",
   "execution_count": 54,
   "metadata": {
    "collapsed": true
   },
   "outputs": [],
   "source": [
    "#Applying initial conditions.\n",
    "def special_condition(C2, U, Un):\n",
    "    for n in range (nt):\n",
    "        U[1:-1] = Un[1:-1] - (1/2) * C2 * (Un[2:] - 2*Un[1:-1]+ Un[0:-2])\n",
    "    return U"
   ]
  },
  {
   "cell_type": "code",
   "execution_count": 63,
   "metadata": {
    "collapsed": false
   },
   "outputs": [],
   "source": [
    "def ftcs(U, nt, dt, dx, C2, Un, Unx):\n",
    "       \n",
    "   \n",
    "    for n in range(nt):   \n",
    "        U[1:-1] = - Unx[1:-1] + 2*Un[1:-1] + (C2) *(Un[2:] -2*Un[1:-1] + Un[0:-2])\n",
    "    \n",
    "    #Applying Boundary Conditions\n",
    "    U[0] = 0\n",
    "    U[nt-1] = 0\n",
    "    return U"
   ]
  },
  {
   "cell_type": "code",
   "execution_count": 57,
   "metadata": {
    "collapsed": false
   },
   "outputs": [],
   "source": [
    "def initial_condition(Ui,L, x):\n",
    "    for i in range(0,nx):\n",
    "        Ui[i] = numpy.sin((numpy.pi*x[i])/L)\n",
    "    return Ui"
   ]
  },
  {
   "cell_type": "code",
   "execution_count": 58,
   "metadata": {
    "collapsed": false
   },
   "outputs": [],
   "source": [
    "y=initial_condition(Ui,L,x)"
   ]
  },
  {
   "cell_type": "code",
   "execution_count": 59,
   "metadata": {
    "collapsed": false
   },
   "outputs": [],
   "source": [
    "z = special_condition(C2, y, y.copy())"
   ]
  },
  {
   "cell_type": "code",
   "execution_count": 64,
   "metadata": {
    "collapsed": false
   },
   "outputs": [],
   "source": [
    "answer = ftcs(z, nt, dt, dx, C2, z.copy(), z.copy())"
   ]
  },
  {
   "cell_type": "code",
   "execution_count": 65,
   "metadata": {
    "collapsed": false
   },
   "outputs": [
    {
     "data": {
      "text/plain": [
       "array([ 0.        ,  0.03171196,  0.06339199,  0.09500819,  0.12652873,\n",
       "        0.15792186,  0.18915598,  0.22019963,  0.25102156,  0.28159073,\n",
       "        0.31187637,  0.34184797,  0.37147536,  0.40072871,  0.42957856,\n",
       "        0.45799585,  0.48595199,  0.51341881,  0.54036866,  0.56677441,\n",
       "        0.59260946,  0.61784781,  0.64246403,  0.66643335,  0.68973163,\n",
       "        0.71233541,  0.73422192,  0.75536913,  0.77575576,  0.79536126,\n",
       "        0.8141659 ,  0.83215074,  0.84929768,  0.86558945,  0.88100964,\n",
       "        0.89554274,  0.90917409,  0.92188999,  0.93367762,  0.94452511,\n",
       "        0.95442155,  0.96335697,  0.97132236,  0.97830972,  0.98431201,\n",
       "        0.98932317,  0.99333817,  0.99635296,  0.99836452,  0.9993708 ,\n",
       "        0.9993708 ,  0.99836452,  0.99635296,  0.99333817,  0.98932317,\n",
       "        0.98431201,  0.97830972,  0.97132236,  0.96335697,  0.95442155,\n",
       "        0.94452511,  0.93367762,  0.92188999,  0.90917409,  0.89554274,\n",
       "        0.88100964,  0.86558945,  0.84929768,  0.83215074,  0.8141659 ,\n",
       "        0.79536126,  0.77575576,  0.75536913,  0.73422192,  0.71233541,\n",
       "        0.68973163,  0.66643335,  0.64246403,  0.61784781,  0.59260946,\n",
       "        0.56677441,  0.54036866,  0.51341881,  0.48595199,  0.45799585,\n",
       "        0.42957856,  0.40072871,  0.37147536,  0.34184797,  0.31187637,\n",
       "        0.28159073,  0.25102156,  0.22019963,  0.18915598,  0.15792186,\n",
       "        0.12652873,  0.09500819,  0.06339199,  0.03171196,  0.        ])"
      ]
     },
     "execution_count": 65,
     "metadata": {},
     "output_type": "execute_result"
    }
   ],
   "source": [
    "answer"
   ]
  },
  {
   "cell_type": "code",
   "execution_count": null,
   "metadata": {
    "collapsed": true
   },
   "outputs": [],
   "source": []
  }
 ],
 "metadata": {
  "kernelspec": {
   "display_name": "Python 2",
   "language": "python",
   "name": "python2"
  },
  "language_info": {
   "codemirror_mode": {
    "name": "ipython",
    "version": 2
   },
   "file_extension": ".py",
   "mimetype": "text/x-python",
   "name": "python",
   "nbconvert_exporter": "python",
   "pygments_lexer": "ipython2",
   "version": "2.7.10"
  }
 },
 "nbformat": 4,
 "nbformat_minor": 0
}
