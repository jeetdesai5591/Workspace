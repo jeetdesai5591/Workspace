{
 "cells": [
  {
   "cell_type": "code",
   "execution_count": 74,
   "metadata": {
    "collapsed": false
   },
   "outputs": [],
   "source": [
    "import numpy\n",
    "from matplotlib import pyplot\n",
    "%matplotlib inline\n",
    "from matplotlib import rcParams\n",
    "rcParams['font.family'] = 'serif'\n",
    "rcParams['font.size'] = 16\n",
    "\n",
    "def reactDiffV(U,nt,Dv,V,F,k,dt,dx):\n",
    "    for n in range(nt):\n",
    "        Vn = V.copy()\n",
    "        Un = U.copy()\n",
    "        V[1:-1,1:-1] = Vn[1:-1,1:-1] + Dv *\\\n",
    "                (dt/dx**2 * (Vn[2:,1:-1] - 2*Vn[1:-1,1:-1] + Vn[:-2,1:-1]) +\\\n",
    "                dt/dy**2 * (Vn[1:-1,2:] - 2*Vn[1:-1,1:-1] + Vn[1:-1,:-2]) +\\\n",
    "                dt * Un[1:-1,1:-1] * Vn[1:-1,1:-1]**2 - (F+k) * dt * Vn[1:-1,1:-1])\n",
    "        \n",
    "    return V"
   ]
  },
  {
   "cell_type": "code",
   "execution_count": 75,
   "metadata": {
    "collapsed": false
   },
   "outputs": [],
   "source": [
    "import warnings\n",
    "warnings.filterwarnings('ignore')\n",
    "n = 192\n",
    "Du, Dv, F, k = 0.00016, 0.00008, 0.035, 0.065 # Bacteria 1 \n",
    "dh = 5./(n-1)\n",
    "T = 8000\n",
    "dt = .9 * dh**2 / (4*max(Du,Dv))\n",
    "nt = int(T/dt)\n",
    "nx = 192\n",
    "ny = 192\n",
    "L = 1.0e-2\n",
    "H = 1.0e-2\n",
    "dx = L/(nx-1)\n",
    "dy = H/(ny-1)\n",
    "\n",
    "x = numpy.linspace(0,L,nx)\n",
    "y = numpy.linspace(0,H,ny)\n",
    "\n",
    "Vi = numpy.ones((ny, nx))*20\n",
    "Vi[0,:]= 100\n",
    "Vi[:,0] = 100\n",
    "\n",
    "Ui = numpy.ones((ny, nx))*20\n",
    "Ui[0,:]= 100\n",
    "Ui[:,0] = 100\n",
    "Y = reactDiffV(Vi.copy(),nt,Dv,Ui.copy(),F,k,dt,dx)"
   ]
  },
  {
   "cell_type": "code",
   "execution_count": 76,
   "metadata": {
    "collapsed": false
   },
   "outputs": [
    {
     "data": {
      "text/plain": [
       "array([[ 100.,  100.,  100., ...,  100.,  100.,  100.],\n",
       "       [ 100.,   nan,   nan, ...,   nan,   nan,   20.],\n",
       "       [ 100.,   nan,   nan, ...,   nan,   nan,   20.],\n",
       "       ..., \n",
       "       [ 100.,   nan,   nan, ...,   nan,   nan,   20.],\n",
       "       [ 100.,   nan,   nan, ...,   nan,   nan,   20.],\n",
       "       [ 100.,   20.,   20., ...,   20.,   20.,   20.]])"
      ]
     },
     "execution_count": 76,
     "metadata": {},
     "output_type": "execute_result"
    }
   ],
   "source": [
    "Y"
   ]
  },
  {
   "cell_type": "code",
   "execution_count": null,
   "metadata": {
    "collapsed": true
   },
   "outputs": [],
   "source": []
  }
 ],
 "metadata": {
  "kernelspec": {
   "display_name": "Python 2",
   "language": "python",
   "name": "python2"
  },
  "language_info": {
   "codemirror_mode": {
    "name": "ipython",
    "version": 2
   },
   "file_extension": ".py",
   "mimetype": "text/x-python",
   "name": "python",
   "nbconvert_exporter": "python",
   "pygments_lexer": "ipython2",
   "version": "2.7.10"
  }
 },
 "nbformat": 4,
 "nbformat_minor": 0
}
