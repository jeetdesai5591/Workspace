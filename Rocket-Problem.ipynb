{
 "cells": [
  {
   "cell_type": "code",
   "execution_count": 49,
   "metadata": {
    "collapsed": false,
    "scrolled": false
   },
   "outputs": [
    {
     "data": {
      "image/png": "[encoded data removed]",
      "text/plain": [
       "<matplotlib.figure.Figure at 0xb700128>"
      ]
     },
     "metadata": {},
     "output_type": "display_data"
    },
    {
     "name": "stdout",
     "output_type": "stream",
     "text": [
      "Mass of the propellant at time=3.2s is 36 kg\n",
      "\n",
      "Maximum speed of the rocket 232.159324 m/s\n",
      "Altitude at this time 523.647404 m\n",
      "At time= 4.900000 s\n",
      "\n",
      "Rocket's maximum altitude 1335.043283 m\n",
      "At time = 15.600000 s\n",
      " \n",
      "Time of impact 37.000000 s\n",
      "Altitude = -0.041094 m\n",
      "Velocity of rocket at the time of impact -85.945715 m/s\n"
     ]
    }
   ],
   "source": [
    "import numpy\n",
    "import math\n",
    "import matplotlib.pyplot as plt\n",
    "%matplotlib inline\n",
    "# inputs to the system\n",
    "ms=50 # weight of the rocket shell\n",
    "g = 9.8 #acceleration due to gravity\n",
    "ro = 1.091\n",
    "r=0.5    # Radius \n",
    "A = 3.14*r**2  # area at r = 0.5\n",
    "nue = 325 # Exhaust velocity\n",
    "CD=0.15 #Drag coefficent\n",
    "mp0=100 # initial weight of rocket propellant\n",
    "mdp=20    \n",
    "\n",
    "Tf=40\n",
    "dt=0.1\n",
    "N=int(Tf/dt)\n",
    "t=numpy.linspace(0,Tf,N+1)\n",
    "\n",
    "z=numpy.zeros(N+1)\n",
    "v=numpy.zeros(N+1)\n",
    "\n",
    "z[0]=0.0\n",
    "v[0]=0.0\n",
    "\n",
    "maxvelocity=0.\n",
    "maxaltitude=0.\n",
    "velocity_at_dt= 0.\n",
    "\n",
    "for n in range(0,N,1):\n",
    "\n",
    " z[n+1]=z[n]+dt*v[n]\n",
    " time=n*dt\n",
    " if(z[n+1]<0): \n",
    "    break\n",
    "    \n",
    " mp=mp0-(mdp*time)\n",
    " if time>=5 :\n",
    "  mp=0.0\n",
    "  mdp=0.0\n",
    "\n",
    " v[n+1]=v[n]+dt*(((-(ms+mp)*g)+(mdp*nue)-(0.5*ro*v[n]*abs(v[n])*A*CD))/(mp+ms)) \n",
    "\n",
    " if v[n+1]> maxvelocity :\n",
    "     maxvelocity=v[n+1]\n",
    "     altitudevmax=z[n+1]\n",
    "     Tvmax=time\n",
    "     \n",
    "     \n",
    "     \n",
    " if z[n+1]> maxaltitude :\n",
    "    maxaltitude=z[n+1]\n",
    "    vmaxaltitude=v[n+1]\n",
    "    Tmaxaltitude=time\n",
    "    \n",
    " if z[n+1]< maxaltitude :\n",
    "    minaltitude=z[n+1]\n",
    "    vminaltitude=v[n+1]\n",
    "    Tminaltitude=time    \n",
    "    \n",
    "\n",
    "\n",
    "vground=v[n] \n",
    "tground=time\n",
    "\n",
    "hpath=z[0:n] \n",
    "vpath=v[0:n]\n",
    "t=t[0:n]\n",
    "\n",
    "plt.figure(figsize=(6,6))\n",
    "plt.grid(True)   \n",
    "plt.xlabel('t', fontsize=10) #x label\n",
    "plt.ylabel('z', fontsize=10) #y label\n",
    "plt.plot(t,hpath, 'r-'); \n",
    "plt.plot(t,vpath, 'b-'); \n",
    "plt.show()\n",
    "\n",
    "# To calculate mass of propellant at time = 3.2\n",
    "mdp = 20\n",
    "for n in range(0,N,1):\n",
    "    time=n*dt\n",
    "    if time==3.2 :\n",
    "       mp=mp0-(mdp*time)\n",
    "       print \"Mass of the propellant at time=3.2s is %d kg\\n\" %mp\n",
    "\n",
    "#To calculate max velocity and max altitude\n",
    "print \"Maximum speed of the rocket %f m/s\"  %maxvelocity\n",
    "print \"Altitude at this time %f m\" %altitudevmax\n",
    "print \"At time= %f s\\n\" %Tvmax\n",
    "\n",
    "print \"Rocket's maximum altitude %f m\" %maxaltitude\n",
    "print \"At time = %f s\\n \" %Tmaxaltitude\n",
    "\n",
    "for n in range(0,N,1):\n",
    "\n",
    " z[n+1]=z[n]+dt*v[n]\n",
    " time=n*dt\n",
    " if(z[n+1]<0): \n",
    "    \n",
    "    print \"Time of impact %f s\" %time\n",
    "    print \"Altitude = %f m\" %z[n+1]\n",
    "    print \"Velocity of rocket at the time of impact %f m/s\" %v[n]\n",
    "    break\n",
    "    \n"
   ]
  },
  {
   "cell_type": "code",
   "execution_count": null,
   "metadata": {
    "collapsed": true
   },
   "outputs": [],
   "source": []
  }
 ],
 "metadata": {
  "kernelspec": {
   "display_name": "Python 2",
   "language": "python",
   "name": "python2"
  },
  "language_info": {
   "codemirror_mode": {
    "name": "ipython",
    "version": 2
   },
   "file_extension": ".py",
   "mimetype": "text/x-python",
   "name": "python",
   "nbconvert_exporter": "python",
   "pygments_lexer": "ipython2",
   "version": "2.7.10"
  }
 },
 "nbformat": 4,
 "nbformat_minor": 0
}
