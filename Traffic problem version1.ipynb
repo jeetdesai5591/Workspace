{
 "metadata": {
  "name": "",
  "signature": "sha256:d367c531c1ee740d6c2539373312ec609b5b714dc71560de32705de29dc511d2"
 },
 "nbformat": 3,
 "nbformat_minor": 0,
 "worksheets": [
  {
   "cells": [
    {
     "cell_type": "code",
     "collapsed": false,
     "input": [
      "import numpy as np \n",
      "import matplotlib.pyplot as plt \n",
      "%matplotlib inline\n",
      "# linear convection function\n",
      "\n",
      "def F(rho):\n",
      "    Vmax=80.\n",
      "    rhomax=250.\n",
      "    f=Vmax*rho*(1-(rho/rhomax))\n",
      "    return f\n",
      "\n",
      "def traffic_flow(nx,nt):\n",
      "    L=11.# initial conditions\n",
      "    dt=0.001\n",
      "    x = np.linspace(0,L,nx)\n",
      "    dx=x[1]-x[0]\n",
      "    #v=np.ones(nx)*0.0\n",
      "    v=np.zeros(nx)\n",
      "    vn=np.zeros(nx)\n",
      "    #vn=np.ones(nx)*0.0\n",
      "    r = np.ones(nx)*10\n",
      "    r[10:20] = 50\n",
      "    ro=10\n",
      "    \n",
      "\n",
      "    for i in range(nt):\n",
      "        rn = r.copy()\n",
      "        for j in range(1,nx):\n",
      "            r[j] = rn[j] - dt/dx*(F(rn[j]) - F(rn[j-1]))\n",
      "            r[0]=ro\n",
      "        for j in range(nx):\n",
      "            v[j]=F(r[j])/r[j]\n",
      "        for j in range(nx):\n",
      "            vn[j]=F(rn[j])/rn[j]\n",
      "    return r,v,rn,vn\n",
      "\n",
      "# Average velocity at t=0 mins\n",
      "r,v,rn,vn=traffic_flow(51,1)\n",
      "\n",
      "min_velocity = numpy.round((min(vn)*1000/3600), decimals=2, out=None)\n",
      "\n",
      "print \"Part A, Q1:::\", min_velocity\n",
      "\n",
      "# Average velocity at t=3 mins\n",
      "r,v,rn,vn=traffic_flow(51,50)\n",
      "avg_velocity = numpy.round(((sum(v)/51)*1000/3600), decimals=2, out=None)\n",
      "print \"Part A, Q2:::\",avg_velocity\n",
      "\n",
      "# Minimum velocity at t=6 mins\n",
      "r,v,rn,vn=traffic_flow(51,100)\n",
      "min_velocity = numpy.round((min(v)*1000/3600), decimals=2, out=None)\n",
      "print \"Part A, Q3:::\",min_velocity"
     ],
     "language": "python",
     "metadata": {},
     "outputs": [
      {
       "output_type": "stream",
       "stream": "stdout",
       "text": [
        "Part A, Q1::: 17.78\n",
        "Part A, Q2::: 20.64\n",
        "Part A, Q3::: 18.78\n"
       ]
      }
     ],
     "prompt_number": 20
    },
    {
     "cell_type": "code",
     "collapsed": false,
     "input": [
      "import numpy as np \n",
      "import matplotlib.pyplot as plt \n",
      "%matplotlib inline\n",
      "# linear convection function\n",
      "\n",
      "def F(rho):\n",
      "    Vmax=136.\n",
      "    rhomax=250.\n",
      "    f=Vmax*rho*(1-(rho/rhomax))\n",
      "    return f\n",
      "\n",
      "def traffic_flow(nx,nt):\n",
      "    L=11.# initial conditions\n",
      "    dt=0.001\n",
      "    x = np.linspace(0,L,nx)\n",
      "    dx=x[1]-x[0]\n",
      "    #v=np.ones(nx)*0.0\n",
      "    v=np.zeros(nx)\n",
      "    vn=np.zeros(nx)\n",
      "    #vn=np.ones(nx)*0.0\n",
      "    r = np.ones(nx)*20\n",
      "    r[10:20] = 50\n",
      "    ro=20\n",
      "    \n",
      "\n",
      "    for i in range(nt):\n",
      "        rn = r.copy()\n",
      "        for j in range(1,nx):\n",
      "            r[j] = rn[j] - dt/dx*(F(rn[j]) - F(rn[j-1]))\n",
      "            r[0]=ro\n",
      "        for j in range(nx):\n",
      "            v[j]=F(r[j])/r[j]\n",
      "        for j in range(nx):\n",
      "            vn[j]=F(rn[j])/rn[j]\n",
      "    return r,v,rn,vn\n",
      "\n",
      "# Part B\n",
      "# Minimum velcoity at t=0\n",
      "r,v,rn,vn=traffic_flow(51,1)\n",
      "\n",
      "min_velocity = numpy.round((min(vn)*1000/3600), decimals=2, out=None)\n",
      "print \"Part B, Q1:\",min_velocity\n",
      "\n",
      "# Average velocity at t=3 mins\n",
      "r,v,rn,vn=traffic_flow(51,50)\n",
      "avg_velocity = numpy.round(((sum(v)/51)*1000/3600), decimals=2, out=None)\n",
      "print \"Part B, Q2:\",avg_velocity\n",
      "\n",
      "# Minimum velocity at t=6 mins\n",
      "r,v,rn,vn=traffic_flow(51,50)\n",
      "min_velocity = numpy.round((min(v)*1000/3600), decimals=2, out=None)\n",
      "print \"Part B, Q3:\",min_velocity"
     ],
     "language": "python",
     "metadata": {},
     "outputs": [
      {
       "output_type": "stream",
       "stream": "stdout",
       "text": [
        "Part B, Q1: 30.22\n",
        "Part B, Q2: 33.87\n",
        "Part B, Q3: 30.99\n"
       ]
      }
     ],
     "prompt_number": 24
    },
    {
     "cell_type": "code",
     "collapsed": false,
     "input": [],
     "language": "python",
     "metadata": {},
     "outputs": []
    }
   ],
   "metadata": {}
  }
 ]
}