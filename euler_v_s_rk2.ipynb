{
 "metadata": {
  "name": "",
  "signature": "sha256:04eb363f2aef70496507ef823582d9246b194664d751cc5c3c6029774177b4ea"
 },
 "nbformat": 3,
 "nbformat_minor": 0,
 "worksheets": [
  {
   "cells": [
    {
     "cell_type": "code",
     "collapsed": false,
     "input": [
      "from math import sin, cos, log, ceil\n",
      "import numpy\n",
      "import matplotlib.pyplot as plt\n",
      "import time\n",
      "%matplotlib inline\n",
      "from matplotlib import rcParams\n",
      "rcParams['font.family'] = 'serif'\n",
      "rcParams['font.size'] = 16\n",
      "# model parameters:\n",
      "g = 9.8      # gravity in m s^{-2}\n",
      "v_t = 4.9    # trim velocity in m s^{-1}   \n",
      "C_D = 1/5.0  # drag coefficient --- or D/L if C_L=1\n",
      "C_L = 1.0    # for convenience, use C_L = 1\n",
      "\n",
      "### set initial conditions ###\n",
      "v0 = 6.5     # start at the trim velocity (or add a delta)\n",
      "theta0 = -0.1 # initial angle of trajectory\n",
      "x0 = 0.0     # horizotal position is arbitrary\n",
      "y0 = 2.0     # initial altitude\n",
      "def f(u):\n",
      "    v = u[0]\n",
      "    theta = u[1]\n",
      "    x = u[2]\n",
      "    y = u[3]\n",
      "    return numpy.array([-g*sin(theta) - C_D/C_L*g/v_t**2*v**2,\n",
      "                      -g*cos(theta)/v + g/v_t**2*v,\n",
      "                      v*cos(theta),\n",
      "                      v*sin(theta)])\n",
      "\n",
      "def rk2_step(u, f, dt):\n",
      "    u_star = u + 0.5*dt*f(u)\n",
      "    return u + dt*f(u_star)\n",
      "\n",
      "def euler_step(u, f, dt):\n",
      "    return u + dt * f(u)\n",
      "\n",
      "T  = 15.0                           # final time\n",
      "dt = 0.01                           # set time-increment\n",
      "N  = int(T/dt) + 1                  # number of time-steps                 \n",
      "t = numpy.linspace(0.0, T, N)     \n",
      "\n",
      "# set initial conditions\n",
      "u_euler = numpy.empty((N, 4))\n",
      "\n",
      "\n",
      "# initialize the array containing the solution for each time-step\n",
      "u_euler[0] = numpy.array([v0, theta0, x0, y0])\n",
      "\n",
      "start_time_euler= time.clock()\n",
      "for n in range(N-1):\n",
      "    \n",
      "    u_euler[n+1] = euler_step(u_euler[n], f, dt)\n",
      "    \n",
      "end_time_euler = time.clock()    \n",
      "\n",
      "u_rk2   = numpy.empty((N, 4))\n",
      "u_rk2[0]   = numpy.array([v0, theta0, x0, y0])\n",
      "\n",
      "start_time_rk2 = time.clock()\n",
      "for n in range(N-1):\n",
      "    \n",
      "    u_rk2[n+1]   = rk2_step(u_rk2[n], f, dt)\n",
      "\n",
      "end_time_rk2 = time.clock()\n",
      "\n",
      "x_euler = u_euler[:,2]\n",
      "y_euler = u_euler[:,3]\n",
      "x_rk2 = u_rk2[:,2]\n",
      "y_rk2 = u_rk2[:,3]\n",
      "print \"euler computation takes\", (end_time_euler - start_time_euler)\n",
      "print \"RK2 computation takes\", (end_time_rk2 - start_time_rk2)"
     ],
     "language": "python",
     "metadata": {},
     "outputs": [
      {
       "output_type": "stream",
       "stream": "stdout",
       "text": [
        "euler computation takes 0.008638\n",
        "RK2 computation takes 0.013102\n"
       ]
      }
     ],
     "prompt_number": 28
    },
    {
     "cell_type": "code",
     "collapsed": false,
     "input": [],
     "language": "python",
     "metadata": {},
     "outputs": []
    }
   ],
   "metadata": {}
  }
 ]
}