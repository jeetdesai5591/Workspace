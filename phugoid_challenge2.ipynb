{
 "cells": [
  {
   "cell_type": "code",
   "execution_count": null,
   "metadata": {
    "collapsed": true
   },
   "outputs": [],
   "source": [
    "import numpy as np\n",
    "import matplotlib.pyplot as plt\n",
    "%matplotlib inline\n",
    "# Righthand side of differential equation\n",
    "def f(x):\n",
    "    return -x + 1\n",
    "# Define initial condition\n",
    "x0 = 0\n",
    "# Time step\n",
    "dt = 0.01\n",
    "# Solve the differential equation from time 0 to time T\n",
    "T=5\n",
    "t = np.linspace(0, T, int(T/dt)+1)\n",
    "x = np.zeros(len(t))\n",
    "# Integrate the differential equation using Euler’s method\n",
    "x[0] = x0\n",
    "for i in range(1, len(t)):\n",
    "    x[i] = x[i-1] + f(x[i-1])*dt\n",
    "\n",
    "# Create a new figure\n",
    "plt.figure()\n",
    "# Axis labels\n",
    "plt.tick_params(axis='both', labelsize=14)\n",
    "plt.xlabel('t', fontsize=14) \n",
    "plt.ylabel('t', fontsize=14) \n",
    "plt.plot(t, x, 'r+')\n",
    "plt.show()"
   ]
  }
 ],
 "metadata": {
  "kernelspec": {
   "display_name": "Python 2",
   "language": "python",
   "name": "python2"
  },
  "language_info": {
   "codemirror_mode": {
    "name": "ipython",
    "version": 2
   },
   "file_extension": ".py",
   "mimetype": "text/x-python",
   "name": "python",
   "nbconvert_exporter": "python",
   "pygments_lexer": "ipython2",
   "version": "2.7.10"
  }
 },
 "nbformat": 4,
 "nbformat_minor": 0
}
