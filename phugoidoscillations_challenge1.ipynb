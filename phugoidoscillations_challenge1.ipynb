{
 "metadata": {
  "name": "",
  "signature": "sha256:05275f8330b7d8e25e1b2cbdbe0a19614a2c197e427696c0c357d5574133653f"
 },
 "nbformat": 3,
 "nbformat_minor": 0,
 "worksheets": [
  {
   "cells": [
    {
     "cell_type": "code",
     "collapsed": false,
     "input": [
      "import numpy \n",
      "from matplotlib import pyplot\n",
      "%matplotlib inline\n",
      "T = 100.0\n",
      "dt = 0.02\n",
      "N = int(T/dt)+1\n",
      "t = numpy.arange(0.0, T, N)\n",
      "print(t)"
     ],
     "language": "python",
     "metadata": {},
     "outputs": [
      {
       "output_type": "stream",
       "stream": "stdout",
       "text": [
        "[ 0.]\n"
       ]
      }
     ],
     "prompt_number": 1
    },
    {
     "cell_type": "code",
     "collapsed": false,
     "input": [],
     "language": "python",
     "metadata": {},
     "outputs": []
    }
   ],
   "metadata": {}
  }
 ]
}